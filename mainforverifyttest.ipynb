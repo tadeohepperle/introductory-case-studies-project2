{
 "cells": [
  {
   "cell_type": "code",
   "execution_count": 2,
   "metadata": {},
   "outputs": [],
   "source": [
    "import pandas as pd\n",
    "import matplotlib.pyplot as plt\n",
    "import numpy as np\n",
    "import scipy.stats as stats\n",
    "\n",
    "\n",
    "df = pd.read_csv(\"./data/ImmoDataRuhr.csv\")\n",
    "df = df.rename(columns={\"regio2\": \"city\", \"sqmPrice\": \"price\"})\n",
    "cities = [\"Bochum\",\"Dortmund\", \"Duisburg\", \"Essen\"]\n",
    "PRICENAME = \"Price per sqm in Euros\""
   ]
  },
  {
   "cell_type": "code",
   "execution_count": null,
   "metadata": {},
   "outputs": [],
   "source": [
    "s = \"\"\n",
    "for i, row in df[df[\"city\"] == \"Dortmund\"].iterrows():\n",
    "    s+= str(round(row[\"price\"], 4)) + \"\\n\"\n",
    "\n",
    "print(s)"
   ]
  },
  {
   "cell_type": "code",
   "execution_count": null,
   "metadata": {},
   "outputs": [],
   "source": [
    "s = \"\"\n",
    "for i, row in df[df[\"city\"] == \"Bochum\"].iterrows():\n",
    "    s+= str(round(row[\"price\"], 4)) + \"\\n\"\n",
    "\n",
    "print(s)"
   ]
  },
  {
   "cell_type": "code",
   "execution_count": 3,
   "metadata": {},
   "outputs": [
    {
     "name": "stdout",
     "output_type": "stream",
     "text": [
      "6.8889\n",
      "10.0395\n",
      "7.7614\n",
      "6.8162\n",
      "9.2308\n",
      "8.7218\n",
      "9.2941\n",
      "8.674\n",
      "8.0\n",
      "6.7063\n",
      "7.2692\n",
      "7.5283\n",
      "7.2842\n",
      "8.8402\n",
      "8.5325\n",
      "7.5\n",
      "9.8596\n",
      "8.6154\n",
      "9.5007\n",
      "8.1514\n",
      "7.2655\n",
      "9.6719\n",
      "8.014\n",
      "8.6645\n",
      "7.75\n",
      "8.8397\n",
      "7.963\n",
      "11.0062\n",
      "6.6667\n",
      "7.1599\n",
      "8.75\n",
      "9.7729\n",
      "11.1028\n",
      "10.8452\n",
      "8.5849\n",
      "8.8451\n",
      "8.3795\n",
      "9.2015\n",
      "9.8333\n",
      "9.6522\n",
      "7.6974\n",
      "8.9522\n",
      "9.2063\n",
      "7.1667\n",
      "8.6613\n",
      "10.3137\n",
      "7.8009\n",
      "9.691\n",
      "8.5287\n",
      "9.8571\n",
      "\n"
     ]
    }
   ],
   "source": [
    "s = \"\"\n",
    "for i, row in df[df[\"city\"] == \"Duisburg\"].iterrows():\n",
    "    s+= str(round(row[\"price\"], 4)) + \"\\n\"\n",
    "\n",
    "print(s)"
   ]
  },
  {
   "cell_type": "code",
   "execution_count": null,
   "metadata": {},
   "outputs": [],
   "source": [
    "s = \"\"\n",
    "for i, row in df[df[\"city\"] == \"Essen\"].iterrows():\n",
    "    s+= str(round(row[\"price\"], 4)) + \"\\n\"\n",
    "\n",
    "print(s)"
   ]
  }
 ],
 "metadata": {
  "interpreter": {
   "hash": "cb4df2dc33a21f7462b5dcfcebfefeb063962163816c3a7009bb444f6cfc71b9"
  },
  "kernelspec": {
   "display_name": "Python 3.9.2 64-bit ('venv': venv)",
   "language": "python",
   "name": "python3"
  },
  "language_info": {
   "codemirror_mode": {
    "name": "ipython",
    "version": 3
   },
   "file_extension": ".py",
   "mimetype": "text/x-python",
   "name": "python",
   "nbconvert_exporter": "python",
   "pygments_lexer": "ipython3",
   "version": "3.8.5"
  },
  "orig_nbformat": 4
 },
 "nbformat": 4,
 "nbformat_minor": 2
}
