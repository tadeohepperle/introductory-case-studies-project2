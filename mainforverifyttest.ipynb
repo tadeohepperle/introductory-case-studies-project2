{
 "cells": [
  {
   "cell_type": "code",
   "execution_count": 2,
   "metadata": {},
   "outputs": [],
   "source": [
    "import pandas as pd\n",
    "import matplotlib.pyplot as plt\n",
    "import numpy as np\n",
    "import scipy.stats as stats\n",
    "\n",
    "\n",
    "df = pd.read_csv(\"./data/ImmoDataRuhr.csv\")\n",
    "df = df.rename(columns={\"regio2\": \"city\", \"sqmPrice\": \"price\"})\n",
    "cities = [\"Bochum\",\"Dortmund\", \"Duisburg\", \"Essen\"]\n",
    "PRICENAME = \"Price per sqm in Euros\""
   ]
  },
  {
   "cell_type": "code",
   "execution_count": 7,
   "metadata": {},
   "outputs": [
    {
     "name": "stdout",
     "output_type": "stream",
     "text": [
      "9.4516\n",
      "11.4035\n",
      "11.2676\n",
      "10.0\n",
      "8.4524\n",
      "9.4667\n",
      "10.0685\n",
      "7.4545\n",
      "8.5333\n",
      "10.4938\n",
      "13.6286\n",
      "6.9156\n",
      "7.7419\n",
      "9.4504\n",
      "9.8\n",
      "8.5133\n",
      "9.2\n",
      "6.6624\n",
      "11.1682\n",
      "7.7759\n",
      "8.5\n",
      "10.7059\n",
      "7.6162\n",
      "10.0\n",
      "9.3333\n",
      "10.6111\n",
      "10.7531\n",
      "8.8333\n",
      "9.8383\n",
      "10.5984\n",
      "10.7407\n",
      "9.3151\n",
      "10.3077\n",
      "7.973\n",
      "9.5833\n",
      "8.5616\n",
      "10.5263\n",
      "9.6627\n",
      "9.9206\n",
      "12.0896\n",
      "10.7273\n",
      "8.9655\n",
      "9.9658\n",
      "9.5205\n",
      "8.8889\n",
      "9.1667\n",
      "7.3767\n",
      "8.2996\n",
      "10.1114\n",
      "10.3448\n",
      "\n"
     ]
    }
   ],
   "source": [
    "s = \"\"\n",
    "for i, row in df[df[\"city\"] == \"Dortmund\"].iterrows():\n",
    "    s+= str(round(row[\"price\"], 4)) + \"\\n\"\n",
    "\n",
    "print(s)"
   ]
  },
  {
   "cell_type": "code",
   "execution_count": 8,
   "metadata": {},
   "outputs": [
    {
     "name": "stdout",
     "output_type": "stream",
     "text": [
      "7.0846\n",
      "8.1883\n",
      "8.7143\n",
      "9.2135\n",
      "9.5\n",
      "5.8426\n",
      "9.8333\n",
      "7.9091\n",
      "7.6923\n",
      "9.0566\n",
      "10.3333\n",
      "8.8333\n",
      "12.2981\n",
      "9.7\n",
      "8.3098\n",
      "9.0196\n",
      "9.6071\n",
      "8.2715\n",
      "11.6\n",
      "9.2199\n",
      "9.7414\n",
      "8.5109\n",
      "8.2913\n",
      "8.9465\n",
      "9.2857\n",
      "12.7143\n",
      "9.2857\n",
      "9.1465\n",
      "8.5865\n",
      "8.154\n",
      "10.0\n",
      "8.8571\n",
      "9.2561\n",
      "9.4624\n",
      "10.0357\n",
      "8.6436\n",
      "9.494\n",
      "7.9063\n",
      "6.8168\n",
      "7.5385\n",
      "12.3271\n",
      "9.7484\n",
      "8.5\n",
      "10.0\n",
      "9.7297\n",
      "9.6515\n",
      "8.629\n",
      "10.5833\n",
      "10.1266\n",
      "7.3239\n",
      "\n"
     ]
    }
   ],
   "source": [
    "s = \"\"\n",
    "for i, row in df[df[\"city\"] == \"Bochum\"].iterrows():\n",
    "    s+= str(round(row[\"price\"], 4)) + \"\\n\"\n",
    "\n",
    "print(s)"
   ]
  }
 ],
 "metadata": {
  "interpreter": {
   "hash": "cb4df2dc33a21f7462b5dcfcebfefeb063962163816c3a7009bb444f6cfc71b9"
  },
  "kernelspec": {
   "display_name": "Python 3.9.2 64-bit ('venv': venv)",
   "language": "python",
   "name": "python3"
  },
  "language_info": {
   "codemirror_mode": {
    "name": "ipython",
    "version": 3
   },
   "file_extension": ".py",
   "mimetype": "text/x-python",
   "name": "python",
   "nbconvert_exporter": "python",
   "pygments_lexer": "ipython3",
   "version": "3.8.5"
  },
  "orig_nbformat": 4
 },
 "nbformat": 4,
 "nbformat_minor": 2
}
