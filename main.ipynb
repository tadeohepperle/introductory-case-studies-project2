{
 "cells": [
  {
   "cell_type": "code",
   "execution_count": 1,
   "metadata": {},
   "outputs": [
    {
     "data": {
      "text/html": [
       "<div>\n",
       "<style scoped>\n",
       "    .dataframe tbody tr th:only-of-type {\n",
       "        vertical-align: middle;\n",
       "    }\n",
       "\n",
       "    .dataframe tbody tr th {\n",
       "        vertical-align: top;\n",
       "    }\n",
       "\n",
       "    .dataframe thead th {\n",
       "        text-align: right;\n",
       "    }\n",
       "</style>\n",
       "<table border=\"1\" class=\"dataframe\">\n",
       "  <thead>\n",
       "    <tr style=\"text-align: right;\">\n",
       "      <th></th>\n",
       "      <th>ID</th>\n",
       "      <th>sqmPrice</th>\n",
       "      <th>regio2</th>\n",
       "    </tr>\n",
       "  </thead>\n",
       "  <tbody>\n",
       "    <tr>\n",
       "      <th>0</th>\n",
       "      <td>169</td>\n",
       "      <td>9.451613</td>\n",
       "      <td>Dortmund</td>\n",
       "    </tr>\n",
       "    <tr>\n",
       "      <th>1</th>\n",
       "      <td>232</td>\n",
       "      <td>7.084590</td>\n",
       "      <td>Bochum</td>\n",
       "    </tr>\n",
       "    <tr>\n",
       "      <th>2</th>\n",
       "      <td>427</td>\n",
       "      <td>11.403509</td>\n",
       "      <td>Dortmund</td>\n",
       "    </tr>\n",
       "    <tr>\n",
       "      <th>3</th>\n",
       "      <td>545</td>\n",
       "      <td>6.888889</td>\n",
       "      <td>Duisburg</td>\n",
       "    </tr>\n",
       "    <tr>\n",
       "      <th>4</th>\n",
       "      <td>620</td>\n",
       "      <td>10.039474</td>\n",
       "      <td>Duisburg</td>\n",
       "    </tr>\n",
       "    <tr>\n",
       "      <th>...</th>\n",
       "      <td>...</td>\n",
       "      <td>...</td>\n",
       "      <td>...</td>\n",
       "    </tr>\n",
       "    <tr>\n",
       "      <th>195</th>\n",
       "      <td>11840</td>\n",
       "      <td>7.376667</td>\n",
       "      <td>Dortmund</td>\n",
       "    </tr>\n",
       "    <tr>\n",
       "      <th>196</th>\n",
       "      <td>11848</td>\n",
       "      <td>7.323861</td>\n",
       "      <td>Bochum</td>\n",
       "    </tr>\n",
       "    <tr>\n",
       "      <th>197</th>\n",
       "      <td>11933</td>\n",
       "      <td>8.299627</td>\n",
       "      <td>Dortmund</td>\n",
       "    </tr>\n",
       "    <tr>\n",
       "      <th>198</th>\n",
       "      <td>11954</td>\n",
       "      <td>10.111413</td>\n",
       "      <td>Dortmund</td>\n",
       "    </tr>\n",
       "    <tr>\n",
       "      <th>199</th>\n",
       "      <td>12067</td>\n",
       "      <td>10.344828</td>\n",
       "      <td>Dortmund</td>\n",
       "    </tr>\n",
       "  </tbody>\n",
       "</table>\n",
       "<p>200 rows × 3 columns</p>\n",
       "</div>"
      ],
      "text/plain": [
       "        ID   sqmPrice    regio2\n",
       "0      169   9.451613  Dortmund\n",
       "1      232   7.084590    Bochum\n",
       "2      427  11.403509  Dortmund\n",
       "3      545   6.888889  Duisburg\n",
       "4      620  10.039474  Duisburg\n",
       "..     ...        ...       ...\n",
       "195  11840   7.376667  Dortmund\n",
       "196  11848   7.323861    Bochum\n",
       "197  11933   8.299627  Dortmund\n",
       "198  11954  10.111413  Dortmund\n",
       "199  12067  10.344828  Dortmund\n",
       "\n",
       "[200 rows x 3 columns]"
      ]
     },
     "execution_count": 1,
     "metadata": {},
     "output_type": "execute_result"
    }
   ],
   "source": [
    "import pandas as pd\n",
    "\n",
    "\n",
    "df = pd.read_csv(\"./data/ImmoDataRuhr.csv\")"
   ]
  },
  {
   "cell_type": "code",
   "execution_count": 2,
   "metadata": {},
   "outputs": [
    {
     "name": "stdout",
     "output_type": "stream",
     "text": [
      "Empty DataFrame\n",
      "Columns: [ID, sqmPrice, regio2]\n",
      "Index: []\n"
     ]
    }
   ],
   "source": [
    "# cleaning the data:\n",
    "print(df[df[\"sqmPrice\"].isna()])\n",
    "# --> no"
   ]
  },
  {
   "cell_type": "code",
   "execution_count": 41,
   "metadata": {},
   "outputs": [
    {
     "name": "stdout",
     "output_type": "stream",
     "text": [
      "mean\n",
      "               ID  sqmPrice\n",
      "regio2                     \n",
      "Bochum    6199.76  9.150398\n",
      "Dortmund  6596.06  9.525716\n",
      "Duisburg  6000.52  8.621169\n",
      "Essen     6081.84  9.298602\n",
      "\n",
      "standrad deviation\n",
      "                   ID  sqmPrice\n",
      "regio2                         \n",
      "Bochum    3351.817561  1.325280\n",
      "Dortmund  4129.170181  1.355733\n",
      "Duisburg  3275.133699  1.141194\n",
      "Essen     3453.132499  1.187856\n",
      "\n",
      "count\n",
      "          ID  sqmPrice\n",
      "regio2                \n",
      "Bochum    50        50\n",
      "Dortmund  50        50\n",
      "Duisburg  50        50\n",
      "Essen     50        50\n"
     ]
    }
   ],
   "source": [
    "print(\"mean\")\n",
    "print(df.groupby(by=\"regio2\").mean())\n",
    "print(\"\\nstandrad deviation\")\n",
    "print(df.groupby(by=\"regio2\").std())\n",
    "\n",
    "print(\"\\ncount\")\n",
    "print(df.groupby(by=\"regio2\").count()) # 50 in each group --> perfect"
   ]
  },
  {
   "cell_type": "code",
   "execution_count": null,
   "metadata": {},
   "outputs": [],
   "source": [
    "\n",
    "# test residuals qpproximately normal distributed\n",
    "# shapiro wilk test +  histogram\n",
    "\n",
    "\n",
    "# homoscedasticity or Homogeneity of variances variances equal between groups\n",
    "# Levenes or Bartletts Test"
   ]
  },
  {
   "cell_type": "code",
   "execution_count": 40,
   "metadata": {},
   "outputs": [
    {
     "name": "stdout",
     "output_type": "stream",
     "text": [
      "331.2226572275374 331.2226572275376\n"
     ]
    }
   ],
   "source": [
    "\n",
    "# ANOVA\n",
    "# calculate overall mean:\n",
    "\n",
    "globalMean = df[\"sqmPrice\"].mean()\n",
    "SS_total, SS_within, SS_between = 0,0,0\n",
    "regioMeans = dict()\n",
    "\n",
    "for i, row in df.iterrows():\n",
    "    price = row[\"sqmPrice\"]\n",
    "    regioMean = df[df[\"regio2\"] == row[\"regio2\"]][\"sqmPrice\"].mean()\n",
    "    regioMeans[row[\"regio2\"]] = regioMean\n",
    "    SS_total += (price - globalMean)**2\n",
    "    SS_within += (price - regioMean)**2\n",
    "    SS_between += (globalMean - regioMean)**2\n",
    "\n",
    "\n",
    "\n",
    "print(SS_total, SS_between+ SS_within)\n",
    "\n",
    "\n",
    "\n",
    "\n",
    "# print( SS_total + SS_between,SS_within)\n",
    "\n"
   ]
  }
 ],
 "metadata": {
  "interpreter": {
   "hash": "cb4df2dc33a21f7462b5dcfcebfefeb063962163816c3a7009bb444f6cfc71b9"
  },
  "kernelspec": {
   "display_name": "Python 3.9.2 64-bit ('venv': venv)",
   "language": "python",
   "name": "python3"
  },
  "language_info": {
   "codemirror_mode": {
    "name": "ipython",
    "version": 3
   },
   "file_extension": ".py",
   "mimetype": "text/x-python",
   "name": "python",
   "nbconvert_exporter": "python",
   "pygments_lexer": "ipython3",
   "version": "3.9.2"
  },
  "orig_nbformat": 4
 },
 "nbformat": 4,
 "nbformat_minor": 2
}
